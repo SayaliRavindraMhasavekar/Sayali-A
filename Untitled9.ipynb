{
  "cells": [
    {
      "cell_type": "markdown",
      "metadata": {
        "id": "view-in-github",
        "colab_type": "text"
      },
      "source": [
        "<a href=\"https://colab.research.google.com/github/SayaliRavindraMhasavekar/Sayali-A/blob/main/Untitled9.ipynb\" target=\"_parent\"><img src=\"https://colab.research.google.com/assets/colab-badge.svg\" alt=\"Open In Colab\"/></a>"
      ]
    },
    {
      "cell_type": "markdown",
      "metadata": {
        "id": "IRN73kzZLX72"
      },
      "source": [
        "# Import Library"
      ]
    },
    {
      "cell_type": "code",
      "execution_count": null,
      "metadata": {
        "id": "OL76OKO-LXEL"
      },
      "outputs": [],
      "source": [
        "import pandas as pd"
      ]
    },
    {
      "cell_type": "code",
      "execution_count": null,
      "metadata": {
        "id": "ty_XUXQNLfbf"
      },
      "outputs": [],
      "source": [
        "import numpy as np"
      ]
    },
    {
      "cell_type": "markdown",
      "metadata": {
        "id": "5IE8y_AALkr9"
      },
      "source": [
        "# Import Dataset"
      ]
    },
    {
      "cell_type": "code",
      "execution_count": null,
      "metadata": {
        "id": "AcHQH7PPLs89"
      },
      "outputs": [],
      "source": [
        "df = pd.read_csv(r'https://github.com/YBI-Foundation/Dataset/raw/main/Movies%20Recommendation.csv')"
      ]
    },
    {
      "cell_type": "code",
      "execution_count": null,
      "metadata": {
        "id": "SFQQz-N2MKC9"
      },
      "outputs": [],
      "source": [
        "df.head()"
      ]
    },
    {
      "cell_type": "code",
      "execution_count": null,
      "metadata": {
        "id": "VuJWz5DPMPLB"
      },
      "outputs": [],
      "source": [
        "df.info()"
      ]
    },
    {
      "cell_type": "code",
      "execution_count": null,
      "metadata": {
        "id": "CJsyxUMlMXa_"
      },
      "outputs": [],
      "source": [
        "df.shape"
      ]
    },
    {
      "cell_type": "code",
      "execution_count": null,
      "metadata": {
        "id": "6bV6ywEPMiC_"
      },
      "outputs": [],
      "source": [
        "df.columns"
      ]
    },
    {
      "cell_type": "markdown",
      "metadata": {
        "id": "ZNz78XevMtpd"
      },
      "source": [
        "# Get Feature Selection"
      ]
    },
    {
      "cell_type": "code",
      "execution_count": null,
      "metadata": {
        "id": "_CqiNL1WM0xB"
      },
      "outputs": [],
      "source": [
        "df_features = df[['Movie_Genre','Movie_Keywords','Movie_Tagline','Movie_Cast','Movie_Director']].fillna('')"
      ]
    },
    {
      "cell_type": "code",
      "execution_count": null,
      "metadata": {
        "id": "hw9V8YepNvNj"
      },
      "outputs": [],
      "source": [
        "df_features.shape"
      ]
    },
    {
      "cell_type": "code",
      "execution_count": null,
      "metadata": {
        "id": "TgLw4e1tN_y7"
      },
      "outputs": [],
      "source": [
        "df_features"
      ]
    },
    {
      "cell_type": "code",
      "execution_count": null,
      "metadata": {
        "id": "SdKh1_dpOoqr"
      },
      "outputs": [],
      "source": [
        "x = df_features['Movie_Genre'] + ' ' +df_features['Movie_Keywords']+ ' ' + df_features['Movie_Tagline'] + ' ' + df_features['Movie_Cast'] + ' ' + df_features['Movie_Director']"
      ]
    },
    {
      "cell_type": "code",
      "execution_count": null,
      "metadata": {
        "id": "rVBaXNdyPYHm"
      },
      "outputs": [],
      "source": [
        "x"
      ]
    },
    {
      "cell_type": "code",
      "execution_count": null,
      "metadata": {
        "colab": {
          "base_uri": "https://localhost:8080/"
        },
        "id": "qszdaFiaPjDS",
        "outputId": "8bf8e163-8c01-46ef-f785-0409afa73294"
      },
      "outputs": [
        {
          "data": {
            "text/plain": [
              "(4760,)"
            ]
          },
          "execution_count": 15,
          "metadata": {},
          "output_type": "execute_result"
        }
      ],
      "source": [
        "x.shape"
      ]
    },
    {
      "cell_type": "markdown",
      "metadata": {
        "id": "OLo7iXpfPsHe"
      },
      "source": [
        "# Get Feature Text Conversion To Tokens"
      ]
    },
    {
      "cell_type": "code",
      "execution_count": null,
      "metadata": {
        "id": "6njnEUy7P7_C"
      },
      "outputs": [],
      "source": [
        "from sklearn.feature_extraction.text import TfidfVectorizer"
      ]
    },
    {
      "cell_type": "code",
      "execution_count": null,
      "metadata": {
        "id": "A3I1fDmmQgQj"
      },
      "outputs": [],
      "source": [
        "tfidf = TfidfVectorizer()"
      ]
    },
    {
      "cell_type": "code",
      "execution_count": null,
      "metadata": {
        "id": "CWGRW3wIQxSr"
      },
      "outputs": [],
      "source": [
        "x = tfidf.fit_transform(x)"
      ]
    },
    {
      "cell_type": "code",
      "execution_count": null,
      "metadata": {
        "id": "sMaW9F-WRPMe"
      },
      "outputs": [],
      "source": [
        "x.shape"
      ]
    },
    {
      "cell_type": "code",
      "execution_count": null,
      "metadata": {
        "id": "iJ8E6SxARXkF"
      },
      "outputs": [],
      "source": [
        "print(x)"
      ]
    },
    {
      "cell_type": "markdown",
      "metadata": {
        "id": "1L3-xAPqSMb0"
      },
      "source": [
        "# Get Similarity Score Using Cosine Similarity"
      ]
    },
    {
      "cell_type": "code",
      "execution_count": null,
      "metadata": {
        "id": "AKmUPBFtSoIo"
      },
      "outputs": [],
      "source": [
        "from sklearn.metrics.pairwise import cosine_similarity"
      ]
    },
    {
      "cell_type": "code",
      "execution_count": null,
      "metadata": {
        "id": "h2rAIt06TROx"
      },
      "outputs": [],
      "source": [
        "Similarity_Score = cosine_similarity(x)"
      ]
    },
    {
      "cell_type": "code",
      "execution_count": null,
      "metadata": {
        "id": "WNlOvFTfTtyT"
      },
      "outputs": [],
      "source": [
        "Similarity_Score"
      ]
    },
    {
      "cell_type": "code",
      "execution_count": null,
      "metadata": {
        "id": "P6RHHO5BT-_J"
      },
      "outputs": [],
      "source": [
        "Similarity_Score.shape"
      ]
    },
    {
      "cell_type": "markdown",
      "metadata": {
        "id": "tIEbgZZvUHPm"
      },
      "source": [
        "# Get Movie Name As Input From User and Validate for Closest spelling"
      ]
    },
    {
      "cell_type": "code",
      "execution_count": null,
      "metadata": {
        "colab": {
          "base_uri": "https://localhost:8080/"
        },
        "id": "YHbMlU1xU1Od",
        "outputId": "21c84d99-81bf-43ae-f1ac-ede3a23cd644"
      },
      "outputs": [
        {
          "name": "stdout",
          "output_type": "stream",
          "text": [
            "Enter Your Favourite Moive Nmae : avtaar\n"
          ]
        }
      ],
      "source": [
        "Favourite_Movie_Name = input('Enter Your Favourite Moive Nmae : ')"
      ]
    },
    {
      "cell_type": "code",
      "execution_count": null,
      "metadata": {
        "id": "T50DcY1MWtkn"
      },
      "outputs": [],
      "source": [
        "All_Movies_Title_List = df['Movie_Title'].tolist()"
      ]
    },
    {
      "cell_type": "code",
      "execution_count": null,
      "metadata": {
        "id": "vvWaRLIUXLWV"
      },
      "outputs": [],
      "source": [
        "import difflib"
      ]
    },
    {
      "cell_type": "code",
      "execution_count": null,
      "metadata": {
        "id": "awT4ntl9XSk-"
      },
      "outputs": [],
      "source": [
        "Movie_Recommendation = difflib.get_close_matches(Favourite_Movie_Name , All_Movies_Title_List)\n",
        "print(Movie_Recommendation)"
      ]
    },
    {
      "cell_type": "code",
      "execution_count": null,
      "metadata": {
        "colab": {
          "base_uri": "https://localhost:8080/"
        },
        "id": "ebbkND-LYah9",
        "outputId": "3d7f3d46-5feb-4274-af1f-6cc7a614165c"
      },
      "outputs": [
        {
          "name": "stdout",
          "output_type": "stream",
          "text": [
            "Avatar\n"
          ]
        }
      ],
      "source": [
        "Close_Match = Movie_Recommendation[0]\n",
        "print(Close_Match)"
      ]
    },
    {
      "cell_type": "code",
      "execution_count": null,
      "metadata": {
        "colab": {
          "base_uri": "https://localhost:8080/"
        },
        "id": "TZnCvjEwY7fo",
        "outputId": "a9172c9e-a99c-44cc-9afc-06e4e042d7cb"
      },
      "outputs": [
        {
          "name": "stdout",
          "output_type": "stream",
          "text": [
            "2692\n"
          ]
        }
      ],
      "source": [
        "Index_of_Close_Match_Movie = df[df.Movie_Title == Close_Match]['Movie_ID'].values[0]\n",
        "print(Index_of_Close_Match_Movie)"
      ]
    },
    {
      "cell_type": "code",
      "execution_count": null,
      "metadata": {
        "id": "TVY7TEiPZnAH"
      },
      "outputs": [],
      "source": [
        "# getting a list of similar Movies\n",
        "Recommendation_Score = list(enumerate(Similarity_Score[Index_of_Close_Match_Movie]))\n",
        "print(Recommendation_Score)"
      ]
    },
    {
      "cell_type": "code",
      "execution_count": null,
      "metadata": {
        "id": "z15CrZ-nbODV"
      },
      "outputs": [],
      "source": [
        "len(Recommendation_Score)"
      ]
    },
    {
      "cell_type": "markdown",
      "metadata": {
        "id": "_LPtKr65biYN"
      },
      "source": [
        "# Get All Movies Sort Based On Recommendation Score wrt Favourite Movie"
      ]
    },
    {
      "cell_type": "code",
      "execution_count": null,
      "metadata": {
        "id": "Mgq7oA7ScG7y"
      },
      "outputs": [],
      "source": [
        "# sorting the Movies based on their Similarity Score\n",
        "Sorted_Similar_Movies = sorted(Recommendation_Score, key = lambda x:x[1], reverse = True)\n",
        "print(Sorted_Similar_Movies)"
      ]
    },
    {
      "cell_type": "code",
      "execution_count": null,
      "metadata": {
        "colab": {
          "base_uri": "https://localhost:8080/"
        },
        "id": "M9HLdcgxdb6Q",
        "outputId": "b2b89c42-0f56-4a71-bc49-ef0a74672ac3"
      },
      "outputs": [
        {
          "output_type": "stream",
          "name": "stdout",
          "text": [
            "To 30 Movies Suggested for you : \n",
            "\n",
            "1 . Niagara\n",
            "2 . Caravans\n",
            "3 . My Week with Marilyn\n",
            "4 . Brokeback Mountain\n",
            "5 . Harry Brown\n",
            "6 . Night of the Living Dead\n",
            "7 . The Curse of Downers Grove\n",
            "8 . The Boy Next Door\n",
            "9 . Back to the Future\n",
            "10 . The Juror\n",
            "11 . Some Like It Hot\n",
            "12 . Enough\n",
            "13 . The Kentucky Fried Movie\n",
            "14 . Eye for an Eye\n",
            "15 . Welcome to the Sticks\n",
            "16 . Alice Through the Looking Glass\n",
            "17 . Superman III\n",
            "18 . The Misfits\n",
            "19 . Premium Rush\n",
            "20 . Duel in the Sun\n",
            "21 . Sabotage\n",
            "22 . Small Soldiers\n",
            "23 . All That Jazz\n",
            "24 . Camping Sauvage\n",
            "25 . The Raid\n",
            "26 . Beyond the Black Rainbow\n",
            "27 . To Kill a Mockingbird\n",
            "28 . World Trade Center\n",
            "29 . The Dark Knight Rises\n",
            "30 . Tora! Tora! Tora!\n"
          ]
        }
      ],
      "source": [
        "# Print the Name of similar movies based on the index\n",
        "print('To 30 Movies Suggested for you : \\n')\n",
        "i = 1\n",
        "for movie in Sorted_Similar_Movies:\n",
        " index = movie[0]\n",
        " title_from_index = df[df.index==index]['Movie_Title'].values[0]\n",
        " if (i<31):\n",
        "  print(i, '.',title_from_index)\n",
        "  i+=1"
      ]
    },
    {
      "cell_type": "markdown",
      "source": [
        "# Top 10 Movies Recommendation System"
      ],
      "metadata": {
        "id": "DiZSK0470kiB"
      }
    },
    {
      "cell_type": "code",
      "source": [
        "Movie_Name = input('Enter your Favourite Movie Name : \\n')\n",
        "list_of_all_titles = df['Movie_Title'].tolist()\n",
        "Find_Close_Match = difflib.get_close_matches(Movie_Name, list_of_all_titles)\n",
        "Close_Match = Find_Close_Match[0]\n",
        "Index_of_Movie = df[df.Movie_Title == Close_Match]['Movie_ID'].values[0]\n",
        "Recommendation_Score = list(enumerate(Similarity_Score[Index_of_Movie]))\n",
        "sorted_similar_movies = sorted(Recommendation_Score, key = lambda x:x[1], reverse =True)\n",
        "print('Top 10 Movies Suggested for you : \\n')\n",
        "\n",
        "i = 1\n",
        "\n",
        "for movie in sorted_similar_movies:\n",
        "  index = movie[0]\n",
        "  title_from_index = df[df.Movie_ID==index]['Movie_Title'].values\n",
        "  if (i<11):\n",
        "    print(i, '.',title_from_index)\n",
        "    i+=1\n"
      ],
      "metadata": {
        "colab": {
          "base_uri": "https://localhost:8080/"
        },
        "id": "1rG7LYCZ0rkG",
        "outputId": "d3f5c7cc-5493-4833-c667-f7890c95c5a1"
      },
      "execution_count": null,
      "outputs": [
        {
          "output_type": "stream",
          "name": "stdout",
          "text": [
            "Enter your Favourite Movie Name : \n",
            "avtaar\n",
            "Top 10 Movies Suggested for you : \n",
            "\n",
            "1 . ['Avatar']\n",
            "2 . ['The Girl on the Train']\n",
            "3 . ['Act of Valor']\n",
            "4 . ['Donnie Darko']\n",
            "5 . ['Precious']\n",
            "6 . ['Freaky Friday']\n",
            "7 . ['The Opposite Sex']\n",
            "8 . ['Heaven is for Real']\n",
            "9 . ['Run Lola Run']\n",
            "10 . ['Elizabethtown']\n"
          ]
        }
      ]
    }
  ],
  "metadata": {
    "colab": {
      "provenance": [],
      "include_colab_link": true
    },
    "kernelspec": {
      "display_name": "Python 3",
      "name": "python3"
    },
    "language_info": {
      "name": "python"
    }
  },
  "nbformat": 4,
  "nbformat_minor": 0
}